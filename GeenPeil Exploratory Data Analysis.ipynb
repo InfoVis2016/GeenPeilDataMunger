{
 "cells": [
  {
   "cell_type": "markdown",
   "metadata": {},
   "source": [
    "# GeenPeil Monitor: Exploratory Data Analysis"
   ]
  },
  {
   "cell_type": "code",
   "execution_count": 74,
   "metadata": {
    "collapsed": false
   },
   "outputs": [],
   "source": [
    "import json"
   ]
  },
  {
   "cell_type": "code",
   "execution_count": 75,
   "metadata": {
    "collapsed": false
   },
   "outputs": [
    {
     "name": "stdout",
     "output_type": "stream",
     "text": [
      "{'favorited': False, 'in_reply_to_screen_name': 'AdriaanBeenen', 'id_str': '702799069832466432', 'source': '<a href=\"http://twitter.com\" rel=\"nofollow\">Twitter Web Client</a>', 'in_reply_to_status_id': 702525968070610945, 'timestamp_ms': '1456395330280', 'retweeted': False, 'user': {'description': 'Art Music Science Maths Physics QM Tech HR Humanity Nature. T mostly Dutch. ★ Blackstar, Shining, UFO collector(7). Quarky. RT/... not endorsement', 'profile_sidebar_fill_color': '000000', 'location': 'Villa of Ormen, Netherlands', 'screen_name': 'Backenricker', 'geo_enabled': False, 'favourites_count': 4824, 'id_str': '3576975202', 'follow_request_sent': None, 'profile_background_image_url': 'http://pbs.twimg.com/profile_background_images/657929087252627456/kPGzL3vR.jpg', 'utc_offset': -28800, 'is_translator': False, 'default_profile': False, 'listed_count': 335, 'name': 'Valentino-v.Gogh', 'default_profile_image': False, 'profile_image_url': 'http://pbs.twimg.com/profile_images/686628294217760768/AWJ4Y-X6_normal.png', 'url': 'https://www.youtube.com/watch?v=ynCcR99zYU4', 'protected': False, 'statuses_count': 25393, 'profile_background_image_url_https': 'https://pbs.twimg.com/profile_background_images/657929087252627456/kPGzL3vR.jpg', 'profile_image_url_https': 'https://pbs.twimg.com/profile_images/686628294217760768/AWJ4Y-X6_normal.png', 'created_at': 'Mon Sep 07 12:39:34 +0000 2015', 'notifications': None, 'id': 3576975202, 'verified': False, 'profile_banner_url': 'https://pbs.twimg.com/profile_banners/3576975202/1445599824', 'contributors_enabled': False, 'profile_background_color': '000000', 'profile_sidebar_border_color': '000000', 'profile_link_color': '9266CC', 'profile_text_color': '000000', 'friends_count': 4996, 'following': None, 'profile_background_tile': True, 'followers_count': 1389, 'profile_use_background_image': True, 'time_zone': 'Pacific Time (US & Canada)', 'lang': 'en'}, 'in_reply_to_user_id_str': '371932423', 'contributors': None, 'geo': None, 'favorite_count': 0, 'entities': {'user_mentions': [{'name': 'Adriaan Beenen', 'id_str': '371932423', 'indices': [0, 14], 'screen_name': 'AdriaanBeenen', 'id': 371932423}, {'name': 'Benjo Hilbrink', 'id_str': '889712592', 'indices': [15, 30], 'screen_name': 'BenjoHilbrink1', 'id': 889712592}], 'urls': [{'display_url': 'geenstijl.nl/mt/archieven/2…', 'expanded_url': 'http://www.geenstijl.nl/mt/archieven/2016/02/geen_miljard_sorosdollars_die_dit_recht_gaan_praten.html', 'url': 'https://t.co/DmoG2jFWP4', 'indices': [71, 94]}], 'hashtags': [{'text': 'GeenPeil', 'indices': [95, 104]}], 'symbols': [], 'media': [{'display_url': 'pic.twitter.com/rFsetsdR5w', 'sizes': {'thumb': {'h': 150, 'resize': 'crop', 'w': 150}, 'medium': {'h': 674, 'resize': 'fit', 'w': 495}, 'large': {'h': 674, 'resize': 'fit', 'w': 495}, 'small': {'h': 674, 'resize': 'fit', 'w': 495}}, 'indices': [105, 128], 'type': 'photo', 'id_str': '702799068829872133', 'id': 702799068829872133, 'media_url': 'http://pbs.twimg.com/media/CcDYB44UcAUUaYv.png', 'media_url_https': 'https://pbs.twimg.com/media/CcDYB44UcAUUaYv.png', 'expanded_url': 'http://twitter.com/Backenricker/status/702799069832466432/photo/1', 'url': 'https://t.co/rFsetsdR5w'}]}, 'is_quote_status': False, 'possibly_sensitive': False, 'truncated': False, 'created_at': 'Thu Feb 25 10:15:30 +0000 2016', 'id': 702799069832466432, 'in_reply_to_status_id_str': '702525968070610945', 'place': None, 'filter_level': 'low', 'extended_entities': {'media': [{'display_url': 'pic.twitter.com/rFsetsdR5w', 'sizes': {'thumb': {'h': 150, 'resize': 'crop', 'w': 150}, 'medium': {'h': 674, 'resize': 'fit', 'w': 495}, 'large': {'h': 674, 'resize': 'fit', 'w': 495}, 'small': {'h': 674, 'resize': 'fit', 'w': 495}}, 'indices': [105, 128], 'type': 'photo', 'id_str': '702799068829872133', 'id': 702799068829872133, 'media_url': 'http://pbs.twimg.com/media/CcDYB44UcAUUaYv.png', 'media_url_https': 'https://pbs.twimg.com/media/CcDYB44UcAUUaYv.png', 'expanded_url': 'http://twitter.com/Backenricker/status/702799069832466432/photo/1', 'url': 'https://t.co/rFsetsdR5w'}]}, 'in_reply_to_user_id': 371932423, 'retweet_count': 0, 'coordinates': None, 'text': '@AdriaanBeenen @BenjoHilbrink1 \\nWaarnemers van de OVSE bijvoorbeeld...\\nhttps://t.co/DmoG2jFWP4\\n#GeenPeil https://t.co/rFsetsdR5w', 'lang': 'nl'}\n"
     ]
    }
   ],
   "source": [
    "# Read in the data in a dictionary\n",
    "tweetsFile = open('data-17_03_2016.json')\n",
    "tweetsString = tweetsFile.read()\n",
    "tweets = json.loads(tweetsString)\n",
    "\n",
    "# How does a tweet look?\n",
    "print(tweets[0])"
   ]
  },
  {
   "cell_type": "code",
   "execution_count": 76,
   "metadata": {
    "collapsed": false
   },
   "outputs": [
    {
     "name": "stdout",
     "output_type": "stream",
     "text": [
      "dict_keys(['favorited', 'in_reply_to_screen_name', 'id_str', 'source', 'in_reply_to_status_id', 'timestamp_ms', 'retweeted', 'user', 'in_reply_to_user_id_str', 'contributors', 'geo', 'favorite_count', 'entities', 'is_quote_status', 'possibly_sensitive', 'truncated', 'created_at', 'id', 'in_reply_to_status_id_str', 'place', 'filter_level', 'extended_entities', 'in_reply_to_user_id', 'retweet_count', 'coordinates', 'text', 'lang'])\n"
     ]
    }
   ],
   "source": [
    "# Which headers are in a tweet?\n",
    "print (tweets[0].keys())"
   ]
  },
  {
   "cell_type": "code",
   "execution_count": 77,
   "metadata": {
    "collapsed": false
   },
   "outputs": [
    {
     "name": "stdout",
     "output_type": "stream",
     "text": [
      "dict_keys(['description', 'profile_sidebar_fill_color', 'location', 'screen_name', 'geo_enabled', 'favourites_count', 'id_str', 'follow_request_sent', 'profile_background_image_url', 'utc_offset', 'is_translator', 'default_profile', 'listed_count', 'name', 'default_profile_image', 'profile_image_url', 'url', 'protected', 'statuses_count', 'profile_background_image_url_https', 'profile_image_url_https', 'created_at', 'notifications', 'id', 'verified', 'profile_banner_url', 'contributors_enabled', 'profile_background_color', 'profile_sidebar_border_color', 'profile_link_color', 'profile_text_color', 'friends_count', 'following', 'profile_background_tile', 'followers_count', 'profile_use_background_image', 'time_zone', 'lang'])\n",
      "{'description': 'Art Music Science Maths Physics QM Tech HR Humanity Nature. T mostly Dutch. ★ Blackstar, Shining, UFO collector(7). Quarky. RT/... not endorsement', 'profile_sidebar_fill_color': '000000', 'location': 'Villa of Ormen, Netherlands', 'screen_name': 'Backenricker', 'geo_enabled': False, 'favourites_count': 4824, 'id_str': '3576975202', 'follow_request_sent': None, 'profile_background_image_url': 'http://pbs.twimg.com/profile_background_images/657929087252627456/kPGzL3vR.jpg', 'utc_offset': -28800, 'is_translator': False, 'default_profile': False, 'listed_count': 335, 'name': 'Valentino-v.Gogh', 'default_profile_image': False, 'profile_image_url': 'http://pbs.twimg.com/profile_images/686628294217760768/AWJ4Y-X6_normal.png', 'url': 'https://www.youtube.com/watch?v=ynCcR99zYU4', 'protected': False, 'statuses_count': 25393, 'profile_background_image_url_https': 'https://pbs.twimg.com/profile_background_images/657929087252627456/kPGzL3vR.jpg', 'profile_image_url_https': 'https://pbs.twimg.com/profile_images/686628294217760768/AWJ4Y-X6_normal.png', 'created_at': 'Mon Sep 07 12:39:34 +0000 2015', 'notifications': None, 'id': 3576975202, 'verified': False, 'profile_banner_url': 'https://pbs.twimg.com/profile_banners/3576975202/1445599824', 'contributors_enabled': False, 'profile_background_color': '000000', 'profile_sidebar_border_color': '000000', 'profile_link_color': '9266CC', 'profile_text_color': '000000', 'friends_count': 4996, 'following': None, 'profile_background_tile': True, 'followers_count': 1389, 'profile_use_background_image': True, 'time_zone': 'Pacific Time (US & Canada)', 'lang': 'en'}\n"
     ]
    }
   ],
   "source": [
    "# Which headers are in the user object?\n",
    "print (tweets[0]['user'].keys())\n",
    "\n",
    "# What is in a user?\n",
    "print (tweets[0]['user'])"
   ]
  },
  {
   "cell_type": "code",
   "execution_count": 78,
   "metadata": {
    "collapsed": false
   },
   "outputs": [
    {
     "name": "stdout",
     "output_type": "stream",
     "text": [
      "['aangaande', 'aangezien', 'achter', 'achterna', 'afgelopen', 'al', 'aldaar', 'aldus', 'alhoewel', 'alias', 'alle', 'allebei', 'alleen', 'alsnog', 'altijd', 'altoos', 'ander', 'andere', 'anders', 'anderszins', 'behalve', 'behoudens', 'beide', 'beiden', 'ben', 'beneden', 'bent', 'bepaald', 'betreffende', 'bij', 'binnen', 'binnenin', 'boven', 'bovenal', 'bovendien', 'bovengenoemd', 'bovenstaand', 'bovenvermeld', 'buiten', 'daar', 'daarheen', 'daarin', 'daarna', 'daarnet', 'daarom', 'daarop', 'daarvanlangs', 'dan', 'dat', 'de', 'die', 'dikwijls', 'dit', 'door', 'doorgaand', 'dus', 'echter', 'eer', 'eerdat', 'eerder', 'eerlang', 'eerst', 'elk', 'elke', 'en', 'enig', 'enigszins', 'enkel', 'er', 'erdoor', 'even', 'eveneens', 'evenwel', 'gauw', 'gedurende', 'geen', 'gehad', 'gekund', 'geleden', 'gelijk', 'gemoeten', 'gemogen', 'geweest', 'gewoon', 'gewoonweg', 'haar', 'had', 'hadden', 'hare', 'heb', 'hebben', 'hebt', 'heeft', 'hem', 'hen', 'het', 'hierbeneden', 'hierboven', 'hij', 'hoe', 'hoewel', 'hun', 'hunne', 'ik', 'ikzelf', 'in', 'inmiddels', 'inzake', 'is', 'jezelf', 'jij', 'jijzelf', 'jou', 'jouw', 'jouwe', 'juist', 'jullie', 'kan', 'klaar', 'kon', 'konden', 'krachtens', 'kunnen', 'kunt', 'later', 'liever', 'maar', 'mag', 'meer', 'met', 'mezelf', 'mij', 'mijn', 'mijnent', 'mijner', 'mijzelf', 'misschien', 'mocht', 'mochten', 'moest', 'moesten', 'moet', 'moeten', 'mogen', 'na', 'naar', 'nadat', 'net', 'niet', 'noch', 'nog', 'nogal', 'nu', 'of', 'ofschoon', 'om', 'omdat', 'omhoog', 'omlaag', 'omstreeks', 'omtrent', 'omver', 'onder', 'ondertussen', 'ongeveer', 'ons', 'onszelf', 'onze', 'ook', 'op', 'opnieuw', 'opzij', 'over', 'overeind', 'overigens', 'pas', 'precies', 'reeds', 'rond', 'rondom', 'sedert', 'sinds', 'sindsdien', 'slechts', 'sommige', 'spoedig', 'steeds', 'tamelijk', 'tenzij', 'terwijl', 'thans', 'tijdens', 'toch', 'toen', 'toenmaals', 'toenmalig', 'tot', 'totdat', 'tussen', 'uit', 'uitgezonderd', 'vaak', 'van', 'vandaan', 'vanuit', 'vanwege', 'veeleer', 'verder', 'vervolgens', 'vol', 'volgens', 'voor', 'vooraf', 'vooral', 'vooralsnog', 'voorbij', 'voordat', 'voordezen', 'voordien', 'voorheen', 'voorop', 'vooruit', 'vrij', 'vroeg', 'waar', 'waarom', 'wanneer', 'want', 'waren', 'was', 'wat', 'weer', 'weg', 'wegens', 'wel', 'weldra', 'welk', 'welke', 'wie', 'wiens', 'wier', 'wij', 'wijzelf', 'zal', 'ze', 'zelfs', 'zichzelf', 'zij', 'zijn', 'zijne', 'zo', 'zodra', 'zonder', 'zou', 'zouden', 'zowat', 'zulke', 'zullen', 'zult', 'te', 'we', 'the', 'je', 'via', 'RT', 'deze', 'een']\n"
     ]
    }
   ],
   "source": [
    "# Read Dutch noise words file\n",
    "noiseWords = []\n",
    "f = open('stopwoordenlijst.txt', 'r')\n",
    "for line in f:\n",
    "    word = line.rstrip()\n",
    "    noiseWords.append(word)\n",
    "print(noiseWords)"
   ]
  },
  {
   "cell_type": "code",
   "execution_count": 79,
   "metadata": {
    "collapsed": false
   },
   "outputs": [],
   "source": [
    "# filter uninteresting words\n",
    "textFromTweets = []\n",
    "\n",
    "for i in range(0, len(tweets)):\n",
    "    textFromTweets.append(' '.join([word for word in tweets[i]['text'].split() if word not in noiseWords]))  "
   ]
  },
  {
   "cell_type": "code",
   "execution_count": 80,
   "metadata": {
    "collapsed": false,
    "scrolled": false
   },
   "outputs": [],
   "source": [
    "# count occurences per word\n",
    "from collections import Counter\n",
    "wordCounts = Counter()\n",
    "for tweet in textFromTweets:\n",
    "    words = tweet.split()\n",
    "    for word in words:\n",
    "        wordCounts[word] += 1\n",
    "        \n",
    "with open(\"wordcounts.json\", 'w') as outfile:\n",
    "    json.dump(wordCounts, outfile)"
   ]
  },
  {
   "cell_type": "code",
   "execution_count": 81,
   "metadata": {
    "collapsed": false
   },
   "outputs": [],
   "source": [
    "# count occurences per user and daily occurences per user\n",
    "userCounts = Counter()\n",
    "dailyUserCounts = {}\n",
    "\n",
    "for i in range(0,len(tweets)):\n",
    "    user = tweets[i]['user']['screen_name']\n",
    "    ts = time.strftime('%Y-%m-%d', time.strptime(tweets[i]['created_at'],'%a %b %d %H:%M:%S +0000 %Y'))\n",
    "    userCounts[user] += 1\n",
    "    if ts in dailyUserCounts:\n",
    "        if user in dailyUserCounts[ts]:\n",
    "            dailyUserCounts[ts][user] += 1\n",
    "        else:\n",
    "            dailyUserCounts[ts][user] = 1\n",
    "    else:\n",
    "        dailyUserCounts.update({ts:{user: 1}})\n",
    "\n",
    "with open(\"usercounts.json\", 'w') as outfile:\n",
    "    json.dump(userCounts, outfile)\n",
    "\n",
    "    \n",
    "with open(\"dailyusercounts.json\",'w') as outfile:\n",
    "    json.dump(dailyUserCounts,outfile)"
   ]
  },
  {
   "cell_type": "code",
   "execution_count": 82,
   "metadata": {
    "collapsed": false
   },
   "outputs": [],
   "source": [
    "import time\n",
    "# number of tweets per day\n",
    "dailyCounts = Counter()\n",
    "\n",
    "for i in range(0,len(tweets)):\n",
    "    ts = time.strftime('%Y-%m-%d', time.strptime(tweets[i]['created_at'],'%a %b %d %H:%M:%S +0000 %Y'))\n",
    "    dailyCounts[ts] += 1\n",
    "\n",
    "with open(\"dailycounts.json\", 'w') as outfile:\n",
    "    json.dump(dailyCounts, outfile)"
   ]
  },
  {
   "cell_type": "code",
   "execution_count": 83,
   "metadata": {
    "collapsed": false
   },
   "outputs": [],
   "source": [
    "# Basis for occurrences of words per day\n",
    "textFromTweetsPerDay = {}\n",
    "\n",
    "for i in range(0, len(tweets)):\n",
    "    ts = time.strftime('%Y-%m-%d', time.strptime(tweets[i]['created_at'],'%a %b %d %H:%M:%S +0000 %Y'))\n",
    "    textFromTweetsPerDay.setdefault(ts,[]).append(' '.join([word for word in tweets[i]['text'].split() if word not in noiseWords]))\n",
    "\n",
    "wordCountsFromTweetsPerDay = {}\n",
    "for day in textFromTweetsPerDay:\n",
    "    dailyWordCounts = Counter()\n",
    "    for tweet in textFromTweetsPerDay[day]:\n",
    "        words = tweet.split()\n",
    "        for word in words:\n",
    "            dailyWordCounts[word] += 1\n",
    "    wordCountsFromTweetsPerDay.setdefault(day,[]).append(dailyWordCounts)\n",
    "\n",
    "with open(\"wordcountsperday.json\", 'w') as outfile:\n",
    "    json.dump(wordCountsFromTweetsPerDay, outfile)"
   ]
  },
  {
   "cell_type": "code",
   "execution_count": 84,
   "metadata": {
    "collapsed": false
   },
   "outputs": [],
   "source": [
    "# Reshape json for convenience\n",
    "totalData = {}\n",
    "\n",
    "keys = wordCountsFromTweetsPerDay.keys()\n",
    "\n",
    "for key in keys:\n",
    "    totalData[key] = {'count':dailyCounts[key], 'user_counts':dailyUserCounts[key],'word_counts':wordCountsFromTweetsPerDay[key]}\n",
    "    \n",
    "with open(\"aggregatedData.json\", 'w') as outfile:\n",
    "    json.dump(totalData, outfile)"
   ]
  }
 ],
 "metadata": {
  "kernelspec": {
   "display_name": "Python 3",
   "language": "python",
   "name": "python3"
  },
  "language_info": {
   "codemirror_mode": {
    "name": "ipython",
    "version": 3
   },
   "file_extension": ".py",
   "mimetype": "text/x-python",
   "name": "python",
   "nbconvert_exporter": "python",
   "pygments_lexer": "ipython3",
   "version": "3.4.4"
  }
 },
 "nbformat": 4,
 "nbformat_minor": 0
}
